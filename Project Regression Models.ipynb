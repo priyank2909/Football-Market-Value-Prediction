{
 "cells": [
  {
   "cell_type": "code",
   "execution_count": 1,
   "id": "585e335b-4d03-408c-bbff-5a2838ce675f",
   "metadata": {},
   "outputs": [],
   "source": [
    "import numpy as np\n",
    "import pandas as pd\n",
    "import matplotlib.pyplot as plt\n",
    "import seaborn as sns\n",
    "%matplotlib inline"
   ]
  },
  {
   "cell_type": "code",
   "execution_count": 2,
   "id": "f20cecf0-6dbe-4718-9482-313bc94da702",
   "metadata": {},
   "outputs": [
    {
     "data": {
      "text/html": [
       "<div>\n",
       "<style scoped>\n",
       "    .dataframe tbody tr th:only-of-type {\n",
       "        vertical-align: middle;\n",
       "    }\n",
       "\n",
       "    .dataframe tbody tr th {\n",
       "        vertical-align: top;\n",
       "    }\n",
       "\n",
       "    .dataframe thead th {\n",
       "        text-align: right;\n",
       "    }\n",
       "</style>\n",
       "<table border=\"1\" class=\"dataframe\">\n",
       "  <thead>\n",
       "    <tr style=\"text-align: right;\">\n",
       "      <th></th>\n",
       "      <th>name</th>\n",
       "      <th>club</th>\n",
       "      <th>age</th>\n",
       "      <th>position</th>\n",
       "      <th>position_cat</th>\n",
       "      <th>market_value</th>\n",
       "      <th>page_views</th>\n",
       "      <th>fpl_value</th>\n",
       "      <th>fpl_sel</th>\n",
       "      <th>fpl_points</th>\n",
       "      <th>region</th>\n",
       "      <th>nationality</th>\n",
       "      <th>new_foreign</th>\n",
       "      <th>age_cat</th>\n",
       "      <th>club_id</th>\n",
       "      <th>big_club</th>\n",
       "      <th>new_signing</th>\n",
       "    </tr>\n",
       "  </thead>\n",
       "  <tbody>\n",
       "    <tr>\n",
       "      <th>0</th>\n",
       "      <td>Alexis Sanchez</td>\n",
       "      <td>Arsenal</td>\n",
       "      <td>28</td>\n",
       "      <td>LW</td>\n",
       "      <td>1</td>\n",
       "      <td>65.0</td>\n",
       "      <td>4329</td>\n",
       "      <td>12.0</td>\n",
       "      <td>17.10%</td>\n",
       "      <td>264</td>\n",
       "      <td>3</td>\n",
       "      <td>Chile</td>\n",
       "      <td>0</td>\n",
       "      <td>4</td>\n",
       "      <td>1</td>\n",
       "      <td>1</td>\n",
       "      <td>0</td>\n",
       "    </tr>\n",
       "    <tr>\n",
       "      <th>1</th>\n",
       "      <td>Mesut Ozil</td>\n",
       "      <td>Arsenal</td>\n",
       "      <td>28</td>\n",
       "      <td>AM</td>\n",
       "      <td>1</td>\n",
       "      <td>50.0</td>\n",
       "      <td>4395</td>\n",
       "      <td>9.5</td>\n",
       "      <td>5.60%</td>\n",
       "      <td>167</td>\n",
       "      <td>2</td>\n",
       "      <td>Germany</td>\n",
       "      <td>0</td>\n",
       "      <td>4</td>\n",
       "      <td>1</td>\n",
       "      <td>1</td>\n",
       "      <td>0</td>\n",
       "    </tr>\n",
       "    <tr>\n",
       "      <th>2</th>\n",
       "      <td>Petr Cech</td>\n",
       "      <td>Arsenal</td>\n",
       "      <td>35</td>\n",
       "      <td>GK</td>\n",
       "      <td>4</td>\n",
       "      <td>7.0</td>\n",
       "      <td>1529</td>\n",
       "      <td>5.5</td>\n",
       "      <td>5.90%</td>\n",
       "      <td>134</td>\n",
       "      <td>2</td>\n",
       "      <td>Czech Republic</td>\n",
       "      <td>0</td>\n",
       "      <td>6</td>\n",
       "      <td>1</td>\n",
       "      <td>1</td>\n",
       "      <td>0</td>\n",
       "    </tr>\n",
       "    <tr>\n",
       "      <th>3</th>\n",
       "      <td>Theo Walcott</td>\n",
       "      <td>Arsenal</td>\n",
       "      <td>28</td>\n",
       "      <td>RW</td>\n",
       "      <td>1</td>\n",
       "      <td>20.0</td>\n",
       "      <td>2393</td>\n",
       "      <td>7.5</td>\n",
       "      <td>1.50%</td>\n",
       "      <td>122</td>\n",
       "      <td>1</td>\n",
       "      <td>England</td>\n",
       "      <td>0</td>\n",
       "      <td>4</td>\n",
       "      <td>1</td>\n",
       "      <td>1</td>\n",
       "      <td>0</td>\n",
       "    </tr>\n",
       "    <tr>\n",
       "      <th>4</th>\n",
       "      <td>Laurent Koscielny</td>\n",
       "      <td>Arsenal</td>\n",
       "      <td>31</td>\n",
       "      <td>CB</td>\n",
       "      <td>3</td>\n",
       "      <td>22.0</td>\n",
       "      <td>912</td>\n",
       "      <td>6.0</td>\n",
       "      <td>0.70%</td>\n",
       "      <td>121</td>\n",
       "      <td>2</td>\n",
       "      <td>France</td>\n",
       "      <td>0</td>\n",
       "      <td>4</td>\n",
       "      <td>1</td>\n",
       "      <td>1</td>\n",
       "      <td>0</td>\n",
       "    </tr>\n",
       "  </tbody>\n",
       "</table>\n",
       "</div>"
      ],
      "text/plain": [
       "                name     club  age position  position_cat  market_value  \\\n",
       "0     Alexis Sanchez  Arsenal   28       LW             1          65.0   \n",
       "1         Mesut Ozil  Arsenal   28       AM             1          50.0   \n",
       "2          Petr Cech  Arsenal   35       GK             4           7.0   \n",
       "3       Theo Walcott  Arsenal   28       RW             1          20.0   \n",
       "4  Laurent Koscielny  Arsenal   31       CB             3          22.0   \n",
       "\n",
       "   page_views  fpl_value fpl_sel  fpl_points  region     nationality  \\\n",
       "0        4329       12.0  17.10%         264       3           Chile   \n",
       "1        4395        9.5   5.60%         167       2         Germany   \n",
       "2        1529        5.5   5.90%         134       2  Czech Republic   \n",
       "3        2393        7.5   1.50%         122       1         England   \n",
       "4         912        6.0   0.70%         121       2          France   \n",
       "\n",
       "   new_foreign  age_cat  club_id  big_club  new_signing  \n",
       "0            0        4        1         1            0  \n",
       "1            0        4        1         1            0  \n",
       "2            0        6        1         1            0  \n",
       "3            0        4        1         1            0  \n",
       "4            0        4        1         1            0  "
      ]
     },
     "execution_count": 2,
     "metadata": {},
     "output_type": "execute_result"
    }
   ],
   "source": [
    "football= pd.read_csv('football_CLEAN.csv')\n",
    "football.head()"
   ]
  },
  {
   "cell_type": "code",
   "execution_count": 3,
   "id": "a7344bc3-0e27-4571-819c-abc3de8108a2",
   "metadata": {},
   "outputs": [],
   "source": [
    "football.drop(['name','club','position','nationality'],axis=1,inplace=True)"
   ]
  },
  {
   "cell_type": "code",
   "execution_count": 4,
   "id": "a3c41b9f-4e68-453e-9c4d-5fac1e8edfeb",
   "metadata": {},
   "outputs": [
    {
     "data": {
      "text/html": [
       "<div>\n",
       "<style scoped>\n",
       "    .dataframe tbody tr th:only-of-type {\n",
       "        vertical-align: middle;\n",
       "    }\n",
       "\n",
       "    .dataframe tbody tr th {\n",
       "        vertical-align: top;\n",
       "    }\n",
       "\n",
       "    .dataframe thead th {\n",
       "        text-align: right;\n",
       "    }\n",
       "</style>\n",
       "<table border=\"1\" class=\"dataframe\">\n",
       "  <thead>\n",
       "    <tr style=\"text-align: right;\">\n",
       "      <th></th>\n",
       "      <th>age</th>\n",
       "      <th>position_cat</th>\n",
       "      <th>market_value</th>\n",
       "      <th>page_views</th>\n",
       "      <th>fpl_value</th>\n",
       "      <th>fpl_points</th>\n",
       "      <th>region</th>\n",
       "      <th>new_foreign</th>\n",
       "      <th>age_cat</th>\n",
       "      <th>club_id</th>\n",
       "      <th>big_club</th>\n",
       "      <th>new_signing</th>\n",
       "    </tr>\n",
       "  </thead>\n",
       "  <tbody>\n",
       "    <tr>\n",
       "      <th>0</th>\n",
       "      <td>28</td>\n",
       "      <td>1</td>\n",
       "      <td>65.0</td>\n",
       "      <td>4329</td>\n",
       "      <td>12.0</td>\n",
       "      <td>264</td>\n",
       "      <td>3</td>\n",
       "      <td>0</td>\n",
       "      <td>4</td>\n",
       "      <td>1</td>\n",
       "      <td>1</td>\n",
       "      <td>0</td>\n",
       "    </tr>\n",
       "    <tr>\n",
       "      <th>1</th>\n",
       "      <td>28</td>\n",
       "      <td>1</td>\n",
       "      <td>50.0</td>\n",
       "      <td>4395</td>\n",
       "      <td>9.5</td>\n",
       "      <td>167</td>\n",
       "      <td>2</td>\n",
       "      <td>0</td>\n",
       "      <td>4</td>\n",
       "      <td>1</td>\n",
       "      <td>1</td>\n",
       "      <td>0</td>\n",
       "    </tr>\n",
       "    <tr>\n",
       "      <th>2</th>\n",
       "      <td>35</td>\n",
       "      <td>4</td>\n",
       "      <td>7.0</td>\n",
       "      <td>1529</td>\n",
       "      <td>5.5</td>\n",
       "      <td>134</td>\n",
       "      <td>2</td>\n",
       "      <td>0</td>\n",
       "      <td>6</td>\n",
       "      <td>1</td>\n",
       "      <td>1</td>\n",
       "      <td>0</td>\n",
       "    </tr>\n",
       "    <tr>\n",
       "      <th>3</th>\n",
       "      <td>28</td>\n",
       "      <td>1</td>\n",
       "      <td>20.0</td>\n",
       "      <td>2393</td>\n",
       "      <td>7.5</td>\n",
       "      <td>122</td>\n",
       "      <td>1</td>\n",
       "      <td>0</td>\n",
       "      <td>4</td>\n",
       "      <td>1</td>\n",
       "      <td>1</td>\n",
       "      <td>0</td>\n",
       "    </tr>\n",
       "    <tr>\n",
       "      <th>4</th>\n",
       "      <td>31</td>\n",
       "      <td>3</td>\n",
       "      <td>22.0</td>\n",
       "      <td>912</td>\n",
       "      <td>6.0</td>\n",
       "      <td>121</td>\n",
       "      <td>2</td>\n",
       "      <td>0</td>\n",
       "      <td>4</td>\n",
       "      <td>1</td>\n",
       "      <td>1</td>\n",
       "      <td>0</td>\n",
       "    </tr>\n",
       "  </tbody>\n",
       "</table>\n",
       "</div>"
      ],
      "text/plain": [
       "   age  position_cat  market_value  page_views  fpl_value  fpl_points  region  \\\n",
       "0   28             1          65.0        4329       12.0         264       3   \n",
       "1   28             1          50.0        4395        9.5         167       2   \n",
       "2   35             4           7.0        1529        5.5         134       2   \n",
       "3   28             1          20.0        2393        7.5         122       1   \n",
       "4   31             3          22.0         912        6.0         121       2   \n",
       "\n",
       "   new_foreign  age_cat  club_id  big_club  new_signing  \n",
       "0            0        4        1         1            0  \n",
       "1            0        4        1         1            0  \n",
       "2            0        6        1         1            0  \n",
       "3            0        4        1         1            0  \n",
       "4            0        4        1         1            0  "
      ]
     },
     "execution_count": 4,
     "metadata": {},
     "output_type": "execute_result"
    }
   ],
   "source": [
    "football.drop(['fpl_sel'],axis=1,inplace=True)\n",
    "football.head()"
   ]
  },
  {
   "cell_type": "code",
   "execution_count": 5,
   "id": "529533ca-e37d-48ee-bc3a-b99e0b134f58",
   "metadata": {},
   "outputs": [],
   "source": [
    "X= football.drop('market_value',axis=1)\n",
    "Y= football['market_value']"
   ]
  },
  {
   "cell_type": "code",
   "execution_count": 6,
   "id": "7debe4c9-e3f3-4452-8301-8581914b1dcd",
   "metadata": {},
   "outputs": [],
   "source": [
    "from sklearn.model_selection  import train_test_split"
   ]
  },
  {
   "cell_type": "code",
   "execution_count": 7,
   "id": "b6d13b2c-5cd3-4e6c-a5b1-b4477fb5f8bd",
   "metadata": {},
   "outputs": [
    {
     "name": "stdout",
     "output_type": "stream",
     "text": [
      "(345, 11)\n",
      "(116, 11)\n",
      "(345,)\n",
      "(116,)\n"
     ]
    }
   ],
   "source": [
    "X_train, X_test, Y_train, Y_test = train_test_split(X, Y, test_size = 0.25, random_state=101)\n",
    "print(X_train.shape)\n",
    "print(X_test.shape)\n",
    "print(Y_train.shape)\n",
    "print(Y_test.shape)"
   ]
  },
  {
   "cell_type": "code",
   "execution_count": 8,
   "id": "e96d4a26-7602-4a6e-88c0-c1d4ee1f0aaa",
   "metadata": {},
   "outputs": [
    {
     "data": {
      "text/plain": [
       "age             0\n",
       "position_cat    0\n",
       "market_value    0\n",
       "page_views      0\n",
       "fpl_value       0\n",
       "fpl_points      0\n",
       "region          0\n",
       "new_foreign     0\n",
       "age_cat         0\n",
       "club_id         0\n",
       "big_club        0\n",
       "new_signing     0\n",
       "dtype: int64"
      ]
     },
     "execution_count": 8,
     "metadata": {},
     "output_type": "execute_result"
    }
   ],
   "source": [
    "football.isnull().sum()"
   ]
  },
  {
   "cell_type": "code",
   "execution_count": 9,
   "id": "fc3a8890-d273-481d-b35a-9d4fcf24c622",
   "metadata": {},
   "outputs": [
    {
     "data": {
      "text/plain": [
       "LinearRegression()"
      ]
     },
     "execution_count": 9,
     "metadata": {},
     "output_type": "execute_result"
    }
   ],
   "source": [
    "from sklearn.linear_model import LinearRegression\n",
    "regressor = LinearRegression()\n",
    "regressor.fit(X_train, Y_train)"
   ]
  },
  {
   "cell_type": "code",
   "execution_count": 10,
   "id": "93a95850-272b-4d81-8d59-c9ba8fa86f64",
   "metadata": {},
   "outputs": [
    {
     "name": "stdout",
     "output_type": "stream",
     "text": [
      "[ 1.81732636 18.61361715  7.58441575  9.69559324 13.48621875  1.7719928\n",
      "  3.28553735  1.44073652  3.92641547  7.25216353 -2.38453493 10.1936729\n",
      " 18.45365622  2.81978099 -0.54264911 23.63019     3.86535783 32.42850256\n",
      " 26.01058233  8.08985945 23.11992939 18.37761402  1.74913737  1.19690072\n",
      "  2.9482014  16.146341   37.18204607  0.12339847  4.76405672  1.06228609\n",
      "  6.92144416 13.68840757 -3.53960714 44.8572245  -2.62685466  6.83420694\n",
      "  4.92959677  6.52287303  8.32396614  9.11589334 12.93544942 20.43070552\n",
      "  8.38603154  5.61373308  2.4789383   4.28452146 11.5166137  11.26726342\n",
      "  3.66803695  7.1254539   8.20933538  6.05222621 23.36013346  5.70869415\n",
      "  9.52959896  9.69304246  7.6575665   1.27702539  6.6653578   7.51223587\n",
      " 27.51176747  8.18250124 22.02182672  2.98752722 14.03228044  0.97935834\n",
      " 52.53543893 53.90963284  1.8015113  12.61667694 17.18738852 -3.1539685\n",
      " 18.41242258  7.09901988  0.33882765  3.43288984 17.90831724  7.47822826\n",
      "  1.51228955  6.85936628 22.52390513 16.34773138  4.32480461 19.24463614\n",
      " -2.57821134 -0.13034157 26.16230999  8.33536808  5.41115461 16.53202309\n",
      " 15.36194064 -0.37991295  3.06670876  3.56504026 18.08695071  8.53331148\n",
      "  0.83228634 13.30122123  3.62325157  6.79331391 14.62628286  8.48625516\n",
      "  1.85733721 12.39539775 10.69514185  5.2297055   4.16606713  3.19156482\n",
      " 21.71936844  3.12721306 43.13361975 -0.86036453  2.21359822 10.8037824\n",
      " 21.00110732  7.85361127]\n"
     ]
    }
   ],
   "source": [
    "from sklearn import metrics\n",
    "pred = regressor.predict(X_test)\n",
    "print(pred)"
   ]
  },
  {
   "cell_type": "code",
   "execution_count": 11,
   "id": "d26c90bf-20d4-4d58-9709-bcfae4a50d62",
   "metadata": {},
   "outputs": [],
   "source": [
    "RMSE = np.sqrt(metrics.mean_squared_error(Y_test, pred))"
   ]
  },
  {
   "cell_type": "code",
   "execution_count": 12,
   "id": "e2a4c629-7d72-4012-a8ca-616d1ef818b8",
   "metadata": {},
   "outputs": [
    {
     "name": "stdout",
     "output_type": "stream",
     "text": [
      "6.240155712202\n",
      "Regression: accuracy score on training set 0.7786700044111554\n",
      "Regression: accuracy score on test set 0.7235653036912353\n"
     ]
    }
   ],
   "source": [
    "print(RMSE)\n",
    "print ('Regression: accuracy score on training set', regressor.score(X_train,Y_train))\n",
    "print ('Regression: accuracy score on test set', regressor.score(X_test,Y_test))"
   ]
  },
  {
   "cell_type": "code",
   "execution_count": 13,
   "id": "93db4d0d-e471-4401-824a-5e142905fc04",
   "metadata": {},
   "outputs": [],
   "source": [
    "from sklearn.linear_model import Lasso"
   ]
  },
  {
   "cell_type": "code",
   "execution_count": 14,
   "id": "b63b27e0-0b1f-4587-a39a-b338c7dbf3de",
   "metadata": {},
   "outputs": [
    {
     "data": {
      "text/plain": [
       "Lasso()"
      ]
     },
     "execution_count": 14,
     "metadata": {},
     "output_type": "execute_result"
    }
   ],
   "source": [
    "reg = Lasso(alpha=1.0)\n",
    "reg.fit(X_train, Y_train)"
   ]
  },
  {
   "cell_type": "code",
   "execution_count": 15,
   "id": "a139421a-ba52-44dd-b433-63a5e27ea957",
   "metadata": {},
   "outputs": [
    {
     "name": "stdout",
     "output_type": "stream",
     "text": [
      "[ 4.14462519e+00  2.23715744e+01  7.85834367e+00  1.39892318e+01\n",
      "  1.01306000e+01  3.66796278e+00  4.04857119e+00  4.81300409e+00\n",
      "  4.73405046e+00  8.06735857e+00  5.91849263e-01  9.95177690e+00\n",
      "  1.86984249e+01  4.45864248e+00 -1.17519141e+00  1.89137094e+01\n",
      "  8.39429466e+00  3.10701942e+01  2.60437697e+01  1.19126427e+01\n",
      "  1.91815825e+01  1.62734074e+01  5.41992427e+00  6.52929025e-01\n",
      "  4.76061374e+00  1.18505212e+01  3.58555825e+01  3.07511658e+00\n",
      "  7.15759296e+00  3.10775032e+00  8.16635672e+00  9.61472424e+00\n",
      " -1.67790930e+00  4.12826322e+01 -4.06136940e-02  1.04246265e+01\n",
      "  7.34082139e+00  7.74529766e+00  7.85357988e+00  7.88467854e+00\n",
      "  1.48905838e+01  1.76467710e+01  2.08183378e+00  6.96883179e+00\n",
      "  4.43041827e+00  6.91941323e+00  1.29294183e+01  6.91115659e+00\n",
      "  4.35955701e+00  7.60114230e+00  5.75541303e+00  6.42540411e+00\n",
      "  2.08845831e+01  9.06725232e+00  8.34965626e+00  2.13566042e+00\n",
      "  1.08217780e+01  2.30547970e+00  6.51410242e+00  9.00301749e+00\n",
      "  2.73144191e+01  4.67024521e+00  2.50568458e+01  3.68638664e+00\n",
      "  1.78746745e+01  2.62171118e+00  5.06557001e+01  5.22220446e+01\n",
      "  3.97440113e+00  1.28816434e+01  1.38712938e+01  2.18480754e-02\n",
      "  1.46221538e+01  1.72231761e+00  3.52895475e+00  5.17502111e+00\n",
      "  1.29426301e+01  8.66995434e+00  2.64279506e+00  8.69856774e+00\n",
      "  1.89823502e+01  1.73857480e+01  4.06866761e+00  1.77280845e+01\n",
      " -3.53327316e-01  2.99042694e+00  2.08093576e+01  1.01610811e+01\n",
      "  4.19935072e+00  1.17104036e+01  1.88245322e+01  3.21949815e-01\n",
      "  3.34716447e+00  5.16612575e+00  1.50997850e+01  1.10384358e+01\n",
      "  1.80496437e+00  1.31504539e+01  6.76846804e+00  8.96090272e+00\n",
      "  1.56198609e+01  1.00611907e+01  3.11990331e+00  1.27705596e+01\n",
      "  1.20531128e+01  7.53810632e+00  5.21096598e+00  5.15066948e+00\n",
      "  2.25123318e+01  2.73448173e+00  6.14441834e+01  2.27875312e+00\n",
      "  4.02144092e+00  1.58403604e+01  1.97441069e+01  9.65750537e+00]\n"
     ]
    }
   ],
   "source": [
    "pred= reg.predict(X_test)\n",
    "print(pred)"
   ]
  },
  {
   "cell_type": "code",
   "execution_count": 16,
   "id": "c7fe4fd0-38f9-4b63-bc6b-8fc1b32748f7",
   "metadata": {},
   "outputs": [],
   "source": [
    "RMSE = np.sqrt(metrics.mean_squared_error(Y_test, pred))"
   ]
  },
  {
   "cell_type": "code",
   "execution_count": 17,
   "id": "2ed53064-891a-43a2-aa89-2f289ea08815",
   "metadata": {},
   "outputs": [
    {
     "name": "stdout",
     "output_type": "stream",
     "text": [
      "7.698359940680875\n",
      "Regression: accuracy score on training set 0.717251380224589\n",
      "Regression: accuracy score on test set 0.5792751890027534\n"
     ]
    }
   ],
   "source": [
    "print(RMSE)\n",
    "print ('Regression: accuracy score on training set', reg.score(X_train,Y_train))\n",
    "print ('Regression: accuracy score on test set', reg.score(X_test,Y_test))"
   ]
  },
  {
   "cell_type": "code",
   "execution_count": 18,
   "id": "d883b8b3-572c-4124-b7de-c7b614a58837",
   "metadata": {},
   "outputs": [],
   "source": [
    "from sklearn.linear_model import Ridge"
   ]
  },
  {
   "cell_type": "code",
   "execution_count": 19,
   "id": "ed6ee216-3838-4982-b2eb-9c08ed9195d4",
   "metadata": {},
   "outputs": [
    {
     "data": {
      "text/plain": [
       "Ridge()"
      ]
     },
     "execution_count": 19,
     "metadata": {},
     "output_type": "execute_result"
    }
   ],
   "source": [
    "clf = Ridge(alpha=1.0)\n",
    "clf.fit(X_train, Y_train)"
   ]
  },
  {
   "cell_type": "code",
   "execution_count": 20,
   "id": "07f01661-e9a0-49cb-b3bf-73b054f93c6e",
   "metadata": {},
   "outputs": [],
   "source": [
    "pred= clf.predict(X_test)"
   ]
  },
  {
   "cell_type": "code",
   "execution_count": 21,
   "id": "a0484465-f7e2-462f-a763-c60331251f59",
   "metadata": {},
   "outputs": [
    {
     "name": "stdout",
     "output_type": "stream",
     "text": [
      "[ 1.9055955  18.7251997   7.52425174  9.74829258 13.46548675  1.81231209\n",
      "  3.2821618   1.47693104  3.9364618   7.30256158 -2.36530455 10.16138604\n",
      " 18.41717186  2.88109445 -0.51252951 23.64683845  3.83909701 32.41844013\n",
      " 25.98896816  8.14432227 23.05405345 18.31980441  1.7404059   1.24669998\n",
      "  2.96449771 16.17420857 37.0925475   0.19306508  4.7458718   1.12961204\n",
      "  7.06387514 13.69146098 -3.52365623 44.8663453  -2.60866187  6.85374881\n",
      "  4.91991514  6.57191437  8.30277731  9.12838724 12.8721744  20.35098392\n",
      "  7.87450056  5.58782627  2.53195229  4.38545436 11.42304779 11.26048763\n",
      "  3.65257016  7.15091865  8.20254834  6.06393814 23.2689355   5.76553013\n",
      "  9.48785552  9.18979909  7.66815299  1.38226072  6.7718437   7.46611745\n",
      " 27.5075382   8.20884694 22.0729085   3.07600387 14.08444341  1.06539894\n",
      " 52.67833612 54.03509227  1.88605392 12.55832383 17.16055579 -3.13854078\n",
      " 18.36657933  6.54257604  0.3477574   3.39879568 17.86694259  7.43951157\n",
      "  1.55340765  6.88874    22.50088375 16.30926381  4.31318785 19.24615897\n",
      " -2.51291986 -0.08019412 26.2401348   8.33111513  5.51242251 16.48558707\n",
      " 15.39899534 -0.39830113  3.15594001  3.66726625 18.06565943  8.57412347\n",
      "  0.88641607 13.37394846  3.70683594  6.88404604 14.64297501  8.48184563\n",
      "  1.94604133 12.39488309 10.70517003  5.23464497  4.22003831  3.18426139\n",
      " 21.68383243  3.21436498 43.25696958 -0.8516898   2.26230527 10.87905718\n",
      " 21.07833948  7.78169181]\n"
     ]
    }
   ],
   "source": [
    "print(pred)"
   ]
  },
  {
   "cell_type": "code",
   "execution_count": 22,
   "id": "8e6a2c6d-4c37-4ef4-8a7d-82dc414d333e",
   "metadata": {},
   "outputs": [],
   "source": [
    "RMSE = np.sqrt(metrics.mean_squared_error(Y_test, pred))"
   ]
  },
  {
   "cell_type": "code",
   "execution_count": 23,
   "id": "f127c7b6-324c-4a89-b4e9-e23575bf18ff",
   "metadata": {},
   "outputs": [
    {
     "name": "stdout",
     "output_type": "stream",
     "text": [
      "6.235107129412205\n",
      "Regression: accuracy score on training set 0.7785989207773019\n",
      "Regression: accuracy score on test set 0.7240124203850613\n"
     ]
    }
   ],
   "source": [
    "print(RMSE)\n",
    "print ('Regression: accuracy score on training set', clf.score(X_train,Y_train))\n",
    "print ('Regression: accuracy score on test set', clf.score(X_test,Y_test))"
   ]
  },
  {
   "cell_type": "code",
   "execution_count": 24,
   "id": "45bee83c-6727-4d06-a8a5-5cdef1b69436",
   "metadata": {},
   "outputs": [
    {
     "data": {
      "text/plain": [
       "KNeighborsRegressor()"
      ]
     },
     "execution_count": 24,
     "metadata": {},
     "output_type": "execute_result"
    }
   ],
   "source": [
    "from sklearn.neighbors import KNeighborsRegressor\n",
    "neigh = KNeighborsRegressor(n_neighbors=5)\n",
    "neigh.fit(X_train, Y_train)"
   ]
  },
  {
   "cell_type": "code",
   "execution_count": 25,
   "id": "d1e1a277-8dce-4a00-80b8-a5601cb104c4",
   "metadata": {},
   "outputs": [],
   "source": [
    "pred= neigh.predict(X_test)"
   ]
  },
  {
   "cell_type": "code",
   "execution_count": 26,
   "id": "042a6321-f47c-4331-a5dc-55ebf2c30a1b",
   "metadata": {},
   "outputs": [
    {
     "name": "stdout",
     "output_type": "stream",
     "text": [
      "[ 2.7  24.4  12.   13.3   5.5   4.85  3.9   2.5   3.    4.8   6.    5.6\n",
      " 23.    4.9   1.45 23.    7.2  28.6  33.6  10.7  20.2  22.    4.4   0.7\n",
      "  3.4   6.3  26.    2.15  7.3   6.4   7.1   8.5   1.8  23.6   2.4  11.4\n",
      "  7.6  10.    4.    6.1  14.4  23.    1.8   9.2   4.    5.7  22.4   8.7\n",
      "  8.7   5.4   5.7   5.3  18.8   8.   18.2   0.7   8.6   1.45  5.1  14.\n",
      " 23.    8.5  20.1   7.3  13.3   0.7  56.   47.6   5.62 17.2  20.2   4.9\n",
      " 27.    1.75  2.25  4.5  12.    8.    5.2   5.5  20.2  11.6   4.8  22.\n",
      "  1.1   2.35 24.6   9.3   8.5  11.8  20.1   3.9   1.65  6.2  22.2   7.5\n",
      "  3.35  9.6   6.4   8.4  15.4  19.4   8.6  15.8   9.4   6.9   4.9   5.9\n",
      " 24.2   3.35 57.    6.81  8.5  14.1  19.8   9.2 ]\n"
     ]
    }
   ],
   "source": [
    "print(pred)"
   ]
  },
  {
   "cell_type": "code",
   "execution_count": 27,
   "id": "bcba9d84-6a01-4f50-800a-9e7902466efa",
   "metadata": {},
   "outputs": [
    {
     "name": "stdout",
     "output_type": "stream",
     "text": [
      "8.049488900031115\n",
      "Regression: accuracy score on training set 0.7422433559761357\n",
      "Regression: Accuracy score on test set 0.5400206767913937\n"
     ]
    }
   ],
   "source": [
    "RMSE = np.sqrt(metrics.mean_squared_error(Y_test, pred))\n",
    "print(RMSE)\n",
    "print ('Regression: accuracy score on training set', neigh.score(X_train,Y_train))\n",
    "print ('Regression: Accuracy score on test set', neigh.score(X_test,Y_test))"
   ]
  },
  {
   "cell_type": "code",
   "execution_count": 28,
   "id": "1cf29294-94aa-4922-bf45-872c99b1a333",
   "metadata": {},
   "outputs": [
    {
     "data": {
      "text/plain": [
       "SVR()"
      ]
     },
     "execution_count": 28,
     "metadata": {},
     "output_type": "execute_result"
    }
   ],
   "source": [
    "from sklearn.svm import SVR\n",
    "sregressor = SVR(kernel = 'rbf')\n",
    "sregressor.fit(X_train, Y_train)"
   ]
  },
  {
   "cell_type": "code",
   "execution_count": 29,
   "id": "a3513fe1-d835-46e8-8f14-ed55b6dc5e1f",
   "metadata": {},
   "outputs": [],
   "source": [
    "pred= sregressor.predict(X_test)"
   ]
  },
  {
   "cell_type": "code",
   "execution_count": 30,
   "id": "57b5aa43-9ad8-4d03-ab1b-52d1fa381b07",
   "metadata": {},
   "outputs": [
    {
     "name": "stdout",
     "output_type": "stream",
     "text": [
      "[ 2.96963497 21.7640293   7.5062868  19.51492627  9.98700483  3.55937126\n",
      "  3.55587054  2.78309501  3.38636974  4.11444557  3.88629954  5.41707061\n",
      " 21.87749007  3.45303348  2.55690782 17.48009024  6.53435209 21.83832785\n",
      " 21.23189739  8.910705   19.29078415 21.33945654  3.13154608  2.45580491\n",
      "  3.52225566 10.06889481 20.07074848  2.64719902  4.35316813  3.86520705\n",
      "  8.17520901  7.77989693  2.37325781 20.33031611  3.00089373 10.99139732\n",
      "  6.50741325  5.69946745  3.30850382  4.99000693 10.90183763 21.34328993\n",
      "  2.39853031  6.83689273  3.30150552  3.53157174 21.8613022   4.78427825\n",
      "  4.71664908  4.89664097  8.10296434  4.22026364 22.00463168 11.77599263\n",
      " 14.45341125  2.44562401 10.26533619  2.20085253  3.63947621  8.73328852\n",
      " 20.9631481   5.07856939 20.65487055  4.8641812  19.90573387  2.44958417\n",
      " 23.39487858 22.2072626   5.66924157 18.5478425  13.70192742  3.48126929\n",
      " 16.73082114  2.62200952  3.14018912  3.48991912  8.0017568   7.23180958\n",
      "  3.99558712  6.38591068 16.11395837 11.17951291  3.10324171 21.63048594\n",
      "  2.47813827  3.05471683 17.79361221 10.75361862  4.92654266  9.60849235\n",
      " 20.15240526  2.9244784   2.34598824 10.36030699 14.54310099  7.0867578\n",
      "  3.05009094 11.30805365  3.89279479 11.19986832  9.02379155 11.66807546\n",
      "  4.08317529 12.74142591  6.38030832  4.99300274  3.45358465  4.90976341\n",
      " 20.73211507  3.08452301 17.60342584  6.5414898   4.27424693 20.0096715\n",
      " 21.0067303  11.78147533]\n"
     ]
    }
   ],
   "source": [
    "print(pred)"
   ]
  },
  {
   "cell_type": "code",
   "execution_count": 31,
   "id": "e1602930-7176-43a0-bdb6-f4fe52636ab2",
   "metadata": {},
   "outputs": [
    {
     "name": "stdout",
     "output_type": "stream",
     "text": [
      "8.810676809761732\n",
      "Regression: Accuracy score on training set 0.4621059573402956\n",
      "Regression: Accuracy score on test set 0.4489129064103694\n"
     ]
    }
   ],
   "source": [
    "RMSE = np.sqrt(metrics.mean_squared_error(Y_test, pred))\n",
    "print(RMSE)\n",
    "print ('Regression: Accuracy score on training set', sregressor.score(X_train,Y_train))\n",
    "print ('Regression: Accuracy score on test set', sregressor.score(X_test,Y_test))"
   ]
  },
  {
   "cell_type": "code",
   "execution_count": 32,
   "id": "7dc23bce-9054-4028-ae1e-dfd9f7fc5b6d",
   "metadata": {},
   "outputs": [
    {
     "data": {
      "text/plain": [
       "DecisionTreeRegressor(random_state=0)"
      ]
     },
     "execution_count": 32,
     "metadata": {},
     "output_type": "execute_result"
    }
   ],
   "source": [
    "from sklearn.tree import DecisionTreeRegressor\n",
    "tregressor = DecisionTreeRegressor(random_state=0)\n",
    "tregressor.fit(X_train, Y_train)"
   ]
  },
  {
   "cell_type": "code",
   "execution_count": 33,
   "id": "09a47a14-6b81-44a3-ae23-c5a70e4b1bb8",
   "metadata": {},
   "outputs": [],
   "source": [
    "pred= tregressor.predict(X_test)"
   ]
  },
  {
   "cell_type": "code",
   "execution_count": 34,
   "id": "447a239c-4eed-40a6-900d-257f84af0aa5",
   "metadata": {},
   "outputs": [
    {
     "name": "stdout",
     "output_type": "stream",
     "text": [
      "[ 0.25 12.    1.   15.   10.    0.75  2.5   0.25  4.    5.    6.    8.\n",
      " 12.    2.    0.5  20.    6.   20.   18.   10.   28.   12.    2.5   5.\n",
      "  7.   10.   28.    2.    2.5   5.    5.   21.    0.5  45.    0.5  13.\n",
      "  5.    9.    3.    7.   15.    1.5   5.    1.    5.5   0.75  2.5  10.\n",
      "  5.   15.    5.    2.5  35.    4.    6.    5.5  10.    0.25  6.    1.\n",
      " 32.    5.   18.    3.   12.    0.5  65.   65.    5.    3.5  28.    1.\n",
      " 35.    4.    3.    1.5  13.    1.    2.   10.   30.   18.    2.5   8.\n",
      "  0.25  5.   40.   20.    5.   10.   15.    1.    0.25  6.   16.   10.\n",
      "  1.5  22.    9.    8.   15.    4.    5.   35.   15.    3.5  10.    6.\n",
      " 16.    6.   12.    6.    3.5  15.   12.   20.  ]\n"
     ]
    }
   ],
   "source": [
    "print(pred)"
   ]
  },
  {
   "cell_type": "code",
   "execution_count": 35,
   "id": "4b86bac5-4097-41db-9692-2fec943feb9b",
   "metadata": {},
   "outputs": [
    {
     "name": "stdout",
     "output_type": "stream",
     "text": [
      "6.576350326791423\n",
      "Regression: Accuracy score on training set 1.0\n",
      "Regression: Accuracy score on test set 0.6929765278427356\n"
     ]
    }
   ],
   "source": [
    "RMSE = np.sqrt(metrics.mean_squared_error(Y_test, pred))\n",
    "print(RMSE)\n",
    "print ('Regression: Accuracy score on training set', tregressor.score(X_train,Y_train))\n",
    "print ('Regression: Accuracy score on test set', tregressor.score(X_test,Y_test))"
   ]
  },
  {
   "cell_type": "code",
   "execution_count": 36,
   "id": "e6141a5d-4f8b-4b32-b0ca-3aa83ede26e5",
   "metadata": {},
   "outputs": [
    {
     "data": {
      "text/plain": [
       "RandomForestRegressor(random_state=0)"
      ]
     },
     "execution_count": 36,
     "metadata": {},
     "output_type": "execute_result"
    }
   ],
   "source": [
    "from sklearn.ensemble import RandomForestRegressor\n",
    "rregressor = RandomForestRegressor(n_estimators = 100, random_state = 0)\n",
    "rregressor.fit(X_train, Y_train)"
   ]
  },
  {
   "cell_type": "code",
   "execution_count": 37,
   "id": "bd9bc248-483e-4a81-a043-d7d77516ef60",
   "metadata": {},
   "outputs": [
    {
     "name": "stdout",
     "output_type": "stream",
     "text": [
      "[ 1.52   16.135   3.246  13.6     8.85    2.0645  3.83    1.71    4.425\n",
      "  6.645   3.1     8.725  25.32    4.965   1.9475 17.65    6.0955 26.82\n",
      " 22.46    8.485  29.65   19.43    3.9475  2.0175  4.435  12.26   27.54\n",
      "  2.69    4.96    4.7     8.535  11.555   0.6475 39.77    1.8225 11.86\n",
      "  4.645   8.34    5.225   8.475  11.965  15.16    3.1505  4.068   4.3075\n",
      "  4.67    7.25    5.148   5.524   8.02    7.35    5.5125 28.36    9.455\n",
      " 11.14    3.299  10.835   0.5665  5.985   6.1155 22.86    6.168  16.48\n",
      "  5.5605 16.33    0.719  53.29   55.9     5.875   9.04   24.93    2.888\n",
      " 21.8     3.0425  2.6875  2.66   13.945   5.7205  3.3945  8.51   26.52\n",
      " 15.695   3.5    22.58    0.9825  3.7    32.07   11.955   5.42   13.06\n",
      " 19.415   1.71    1.6     5.056  19.85    9.6     3.425  14.17    6.62\n",
      "  9.97   16.53    9.59    4.93   15.35    9.475   5.1895  3.6425  5.465\n",
      " 15.775   3.549  35.035   2.886   4.83   10.885  17.8    12.005 ]\n"
     ]
    }
   ],
   "source": [
    "pred= rregressor.predict(X_test)\n",
    "print(pred)"
   ]
  },
  {
   "cell_type": "code",
   "execution_count": 38,
   "id": "7691a520-e04b-4e01-a2a6-a4535e3a7e74",
   "metadata": {},
   "outputs": [
    {
     "name": "stdout",
     "output_type": "stream",
     "text": [
      "5.588187870178829\n",
      "Regression: Accuracy score on training set 0.9673894484855171\n",
      "Regression: Accuracy score on test set 0.778311229469809\n"
     ]
    }
   ],
   "source": [
    "RMSE = np.sqrt(metrics.mean_squared_error(Y_test, pred))\n",
    "print(RMSE)\n",
    "print ('Regression: Accuracy score on training set', rregressor.score(X_train,Y_train))\n",
    "print ('Regression: Accuracy score on test set', rregressor.score(X_test,Y_test))"
   ]
  },
  {
   "cell_type": "code",
   "execution_count": 39,
   "id": "4ad3b886-dd22-4f8a-bb62-75a343271986",
   "metadata": {},
   "outputs": [
    {
     "data": {
      "text/plain": [
       "GradientBoostingRegressor(random_state=0)"
      ]
     },
     "execution_count": 39,
     "metadata": {},
     "output_type": "execute_result"
    }
   ],
   "source": [
    "#GRADIENT BOOSTING REGRESSOR\n",
    "from sklearn.ensemble import GradientBoostingRegressor\n",
    "REGGB = GradientBoostingRegressor(random_state=0)\n",
    "REGGB.fit(X_train, Y_train)"
   ]
  },
  {
   "cell_type": "code",
   "execution_count": 40,
   "id": "f0862726-5909-4e94-ae8b-d5c2a848e659",
   "metadata": {},
   "outputs": [],
   "source": [
    "pred= REGGB.predict(X_test)"
   ]
  },
  {
   "cell_type": "code",
   "execution_count": 41,
   "id": "a8ff972a-d072-43a4-bb2a-5613fbb10ac2",
   "metadata": {},
   "outputs": [
    {
     "name": "stdout",
     "output_type": "stream",
     "text": [
      "[ 0.67617833 16.47352984  1.30906136 13.86641975  6.01966199  0.93639296\n",
      "  2.52795461  0.95941827  2.87475374  8.69350565 -0.73711245  8.39095638\n",
      " 22.34147773  5.81238726 -0.77398466 19.51628488  4.99258522 33.06469323\n",
      " 20.72754784  6.01147257 27.91281851 20.03885602  1.89781703  1.72793831\n",
      "  6.97336257 14.77917835 34.07335147  2.0017422   5.77860482  2.22773625\n",
      " 11.37361999 15.90740057 -1.00843959 42.82216103 -0.73579116 10.37500868\n",
      "  4.34994502  9.17251473  7.62487799  9.51498788 12.18510238 12.01956408\n",
      "  3.61837277  0.83427574  4.57467474  4.0936756   5.207028    2.97561669\n",
      "  4.10358417  8.05389608  9.46817321  5.03702141 32.21574648  6.6053403\n",
      " 11.45594804  3.50579715  8.95937081 -0.92770727  7.06558738  2.38993778\n",
      " 21.4012838   7.32986782 18.76389978  4.2749438  12.69215419 -0.77878838\n",
      " 45.82756858 59.40736918  5.46581234  6.70755462 24.83181654 -2.1373758\n",
      " 21.47463929  3.96310495  2.66696373  2.64008287 18.81584317  1.95233104\n",
      "  3.85922119  6.79591189 28.65289595 16.41857902  3.18556077 22.78612374\n",
      "  0.53983235  2.20632119 30.40188984 11.08202295  3.79609708 18.23538964\n",
      " 18.54342534  0.56311498  2.59817733  2.98168251 20.45976514  9.9604596\n",
      "  1.90004536 12.79240551  7.45076461 10.72058416 14.6674735   7.47773055\n",
      "  5.27598424  8.1344975   6.81191144  3.58475567  5.40192309  6.58764833\n",
      " 13.82374317  2.02464199 30.09066754  0.51240911  3.18671804  9.88148191\n",
      " 19.29843165 10.51989441]\n"
     ]
    }
   ],
   "source": [
    "print(pred)"
   ]
  },
  {
   "cell_type": "code",
   "execution_count": 42,
   "id": "9fc03ff6-2ebf-4a30-8cc1-5bdfdaa0b8c4",
   "metadata": {},
   "outputs": [
    {
     "name": "stdout",
     "output_type": "stream",
     "text": [
      "5.244900317284406\n",
      "Regression: Accuracy score on training set 0.9608930036971586\n",
      "Regression: accuracy score on test set 0.8047117222690484\n"
     ]
    }
   ],
   "source": [
    "RMSE = np.sqrt(metrics.mean_squared_error(Y_test, pred))\n",
    "print(RMSE)\n",
    "print ('Regression: Accuracy score on training set', REGGB.score(X_train,Y_train))\n",
    "print ('Regression: accuracy score on test set', REGGB.score(X_test,Y_test))"
   ]
  },
  {
   "cell_type": "code",
   "execution_count": null,
   "id": "8d348309-03b9-4747-b49e-6754b13eda21",
   "metadata": {},
   "outputs": [],
   "source": []
  }
 ],
 "metadata": {
  "kernelspec": {
   "display_name": "Python 3 (ipykernel)",
   "language": "python",
   "name": "python3"
  },
  "language_info": {
   "codemirror_mode": {
    "name": "ipython",
    "version": 3
   },
   "file_extension": ".py",
   "mimetype": "text/x-python",
   "name": "python",
   "nbconvert_exporter": "python",
   "pygments_lexer": "ipython3",
   "version": "3.8.11"
  }
 },
 "nbformat": 4,
 "nbformat_minor": 5
}
